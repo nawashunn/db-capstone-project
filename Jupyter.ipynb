{
 "cells": [
  {
   "cell_type": "code",
   "execution_count": 1,
   "id": "7022da27-a1e9-4c66-80f3-0595beae647e",
   "metadata": {},
   "outputs": [],
   "source": [
    "# Task 1\n",
    "\n",
    "import mysql.connector as connector\n",
    "connection = connector.connect(user = \"vikas\", password = \"Coursera@1987\", db = \"littlelemondb\") "
   ]
  },
  {
   "cell_type": "code",
   "execution_count": 2,
   "id": "9a4944e6-6f9c-4b4b-b2d5-4f334df0212b",
   "metadata": {},
   "outputs": [
    {
     "name": "stdout",
     "output_type": "stream",
     "text": [
      "[('bookings',), ('customer_details',), ('menu',), ('order_delivery_status',), ('orders',), ('staff_information',)]\n"
     ]
    }
   ],
   "source": [
    "# Task 2\n",
    "\n",
    "# create cursor\n",
    "cursor = connection.cursor()\n",
    "\n",
    "# show tables query\n",
    "show_tables_query = \"SHOW tables\" \n",
    "cursor.execute(show_tables_query)\n",
    "\n",
    "# get result from cursor and print result\n",
    "results = cursor.fetchall()\n",
    "print(results)"
   ]
  },
  {
   "cell_type": "code",
   "execution_count": 3,
   "id": "f734edee-d4db-482c-96a6-5f6d3ed4554c",
   "metadata": {},
   "outputs": [
    {
     "name": "stdout",
     "output_type": "stream",
     "text": [
      "('name', 'contact_number', 'Bill_Amount')\n",
      "Vikas Tiwari, 9819787876, 70\n"
     ]
    }
   ],
   "source": [
    "# Task 3\n",
    "\n",
    "# Customer details whose order is greater than 60 query\n",
    "customer_order_more_than_60_query = \"\"\" SELECT name, contact_number, total_cost as Bill_Amount FROM customer_details c INNER JOIN orders o ON\n",
    "c.customer_id = o.customer_id where total_cost > 60 \"\"\"\n",
    "\n",
    "cursor.execute(customer_order_more_than_60_query)\n",
    "\n",
    "# get result from cursor and print result\n",
    "results = cursor.fetchall()\n",
    "columns = cursor.column_names\n",
    "print(columns)\n",
    "for result in results:\n",
    "    print(result[0], result[1], result[2], sep=\", \")"
   ]
  }
 ],
 "metadata": {
  "kernelspec": {
   "display_name": "Python 3 (ipykernel)",
   "language": "python",
   "name": "python3"
  },
  "language_info": {
   "codemirror_mode": {
    "name": "ipython",
    "version": 3
   },
   "file_extension": ".py",
   "mimetype": "text/x-python",
   "name": "python",
   "nbconvert_exporter": "python",
   "pygments_lexer": "ipython3",
   "version": "3.11.5"
  }
 },
 "nbformat": 4,
 "nbformat_minor": 5
}
